{
 "cells": [
  {
   "cell_type": "code",
   "execution_count": 43,
   "id": "8a168cbc",
   "metadata": {},
   "outputs": [
    {
     "name": "stdout",
     "output_type": "stream",
     "text": [
      "1\n",
      "  0.000784 seconds (26 allocations: 672 bytes)\n",
      "2\n",
      "  0.002471 seconds (137 allocations: 10.016 KiB)\n",
      "3\n",
      "  0.000357 seconds (24 allocations: 800 bytes)\n",
      "4\n",
      "  0.002881 seconds (24 allocations: 896 bytes)\n"
     ]
    }
   ],
   "source": [
    "using LinearAlgebra\n",
    "using InvertedIndices\n",
    "Y=[1/0.0576im 0.0+0.0im 0.0+0.0im -1/0.0576im 0.0+0.0im 0.0+0.0im 0.0+0.0im 0.0+0.0im 0.0+0.0im;0.0+0.0im 1/(0.0625im) 0.0+0.0im 0.0+0.0im 0.0+0.0im 0.0+0.0im 0.0+0.0im -1/(0.0625im) 0.0+0.0im;0.0+0.0im 0.0+0.0im 1/0.0586im 0.0+0.0im 0.0+0.0im -1/0.0586im 0.0+0.0im 0.0+0.0im 0.0+0.0im;-1/0.0576im 0.0+0.0im 0.0+0.0im 1/0.0576im+1/(0.0170+0.0920im)+1/(0.0100+0.0850im) -1/(0.0170+0.0920im) 0.0+0.0im 0.0+0.0im 0.0+0.0im -1/(0.0100+0.0850im);0.0+0.0im 0.0+0.0im 0.0+0.0im -1/(0.0170+0.0920im) 1/(0.0170+0.0920im)+1/(0.0390+0.1700im) -1/(0.0390+0.1700im) 0.0+0.0im 0.0+0.0im 0.0+0.0im;0.0+0.0im 0.0+0.0im -1/0.0586im 0.0+0.0im -1/(0.0390+0.1700im) 1/(0.0390+0.1700im)+1/0.0586im+1/(0.0119+0.1008im) -1/(0.0119+0.1008im) 0.0+0.0im 0.0+0.0im;0.0+0.0im 0.0+0.0im 0.0+0.0im 0.0+0.0im 0.0+0.0im -1/(0.0119+0.1008im) 1/(0.0119+0.1008im)+1/(0.0085+0.0720im) -1/(0.0085+0.0720im) 0.0+0.0im;0.0+0.0im -1/(0.0625im) 0.0+0.0im 0.0+0.0im 0.0+0.0im 0.0+0.0im -1/(0.0085+0.0720im) 1/(0.0085+0.0720im)+1/(0.0625im)+1/(0.032+0.1610im) -1/(0.0320+0.1610im);0.0+0.0im 0.0+0.0im 0.0+0.0im -1/(0.0100+0.0850im) 0.0+0.0im 0.0+0.0im 0.0+0.0im -1/(0.0320+0.1610im) 1/(0.0320+0.1610im)+1/(0.0100+0.0850im)]\n",
    "S = [0.723+0.2703im,1.63+0.0654im,0.85-0.1095im,0.0+0.0im,-0.9-0.3im,0.0+0.0im,-1.0-0.35im,0.0+0.0im,-1.25-0.5im]\n",
    "Vm = [1.04,1.025,1.025]\n",
    "V = [1.04+0.0im,1.025+0.0im,1.025+0.0im,1.0+0.0im,1.0+0.0im,1.0+0.0im,1.0+0.0im,1.0+0.0im,1.0+0.0im]\n",
    "PQ = [4,5,6,7,8,9]\n",
    "Swing=[1]\n",
    "PV = [2,3]\n",
    "N = 9\n",
    "ΔV =0.0\n",
    "θ = 0.0\n",
    "#======================================================Function Declaration==================================================#\n",
    "function sudut(V)\n",
    "    # menghitung sudut bilangan kompleks dalam radian\n",
    "    x=real(V)\n",
    "    y=imag(V)\n",
    "    θ=atan.(y./x)\n",
    "    return θ\n",
    "end\n",
    "function radiankederajat(rad)\n",
    "    hasil = rad.*180/pi\n",
    "    return hasil\n",
    "end\n",
    "function Current(N,Y,V) #menghitung arus berdasarkan pers 11\n",
    "        In = zeros(ComplexF64,N,1)\n",
    "        for k in 1:N\n",
    "            for n in 1:N\n",
    "                In[k] = In[k] + Y[k,n]*V[n]\n",
    "            end\n",
    "        end\n",
    "        return In\n",
    "        end\n",
    "function Missmatch(i,V,S,PV,PQ,N) # missmatch berdasarkan pers 10 dan 24\n",
    "        f = zeros(Float64,2*N,1)\n",
    "        for k in PV                      #bus PV\n",
    "            f[2*k-1] = real(conj(V[k])*i[k]) - real(S[k])\n",
    "            f[2*k] = abs(V[k])^2 - Vm[k]^2\n",
    "        end\n",
    "        for k in PQ                     #bus PQ\n",
    "            f[2*k-1] = real(conj(V[k])*i[k]- S[k])\n",
    "            f[2*k] = imag(conj(V[k])*i[k] + S[k])\n",
    "        end\n",
    "        f = f[Not(1:2)]\n",
    "        return f\n",
    "        end\n",
    "\n",
    "function Jacobian(V,i,Y,N,PQ,PV)\n",
    "        J = zeros(Float64,2*N,2*N)\n",
    "    for k in PV               #bus PV perhitungan jacobian berdasarkan pers  28,29,30,31\n",
    "            for n in 1:N\n",
    "                if k!=n\n",
    "                #off diagonal\n",
    "                    J[2*k-1,n] = real(conj(V[k])*Y[k,n])\n",
    "                    J[2*k,n] = 0                                #terhadap V real\n",
    "                    J[2*k-1,N+n] =real(conj(V[k])*1im*Y[k,n])\n",
    "                    J[2*k,N+n] = 0                               #terhadap V imag\n",
    "                else\n",
    "                #diagonal\n",
    "                    J[2*k-1,n] = real(i[k]+conj(V[k])*Y[k,n])\n",
    "                    J[2*k,n] = 2*real(V[k])                       #terhadap V real\n",
    "                    J[2*k-1,N+n] =real(-1im*i[k]+conj(V[k])*1im*Y[k,n])\n",
    "                    J[2*k,N+n] = 2*imag(V[k])                      #terhadap V imag\n",
    "                end\n",
    "            end\n",
    "        end\n",
    "        for k in PQ                #bus PQ perhitungan jacobian berdasarkan pers 14,15,18,19\n",
    "            for n in 1:N\n",
    "                if k!=n\n",
    "                #off diagonal\n",
    "                    J[2*k-1,n] = real(conj(V[k])*Y[k,n])\n",
    "                    J[2*k,n] = imag(conj(V[k])*Y[k,n])          #terhadap V real\n",
    "                    J[2*k-1,N+n] =real(conj(V[k])*1im*Y[k,n])\n",
    "                    J[2*k,N+n] = imag(conj(V[k])*1im*Y[k,n])    #terhadap V imag\n",
    "                else\n",
    "                #diagonal\n",
    "                    J[2*k-1,n] = real(i[k]+conj(V[k])*Y[k,n])\n",
    "                    J[2*k,n] = imag(i[k]+conj(V[k])*Y[k,n])     #terhadap V real\n",
    "                    J[2*k-1,N+n] =real(-1im*i[k]+conj(V[k])*1im*Y[k,n])\n",
    "                    J[2*k,N+n] = imag(-1im*i[k]+conj(V[k])*1im*Y[k,n])  ##terhadap V imag\n",
    "                end\n",
    "            end\n",
    "        end\n",
    "        J = J[Not(1:2), Not(1,N+1)] # hasil jacobian dengan nilai bus 1 tidak ditampilkan\n",
    "        return J\n",
    "        end\n",
    "function S_cal(i,V,PV,PQ,N)       #nilai daya\n",
    "        Scal = zeros(Float64,2*N,1)\n",
    "    for k in PV\n",
    "            Scal[2*k-1] = real(conj(V)[k]*i[k])\n",
    "            Scal[2*k] = imag(conj(V)[k]*i[k])\n",
    "        end\n",
    "        for k in PQ\n",
    "            Scal[2*k-1] = real(conj(V)[k]*i[k])\n",
    "            Scal[2*k] = imag(conj(V)[k]*i[k])\n",
    "        end\n",
    "        Scal = Scal[Not(1:2)]\n",
    "        return Scal\n",
    "        end\n",
    "function update_teg(V,Δv)\n",
    "    ΔV = zeros(ComplexF64,N,1)\n",
    "     for k in PV\n",
    "    ΔV[k] = Δv[2*k-(k+1)]+Δv[7+k]*1im\n",
    "    end\n",
    "    for k in PQ\n",
    "    ΔV[k] = Δv[2*k-(k+1)]+Δv[7+k]*1im\n",
    "    end\n",
    "V = V+ΔV\n",
    "    return V\n",
    "end\n",
    "#####################################################iterasi##############################################################\n",
    "H = 1\n",
    "jumlah_iterasi = 0\n",
    " while H > 5e-5\n",
    " i = Current(N,Y,V)\n",
    " s = S_cal(i,V,PV,PQ,N)\n",
    " f = Missmatch(i,V,S,PV,PQ,N)\n",
    "global H = maximum(abs.(f))\n",
    " j = Jacobian(V,i,Y,N,PQ,PV)\n",
    " Δv = -inv(j)*f \n",
    " V = update_teg(V,Δv)\n",
    " θ = radiankederajat(sudut(V))\n",
    " global jumlah_iterasi += 1\n",
    "  @time println(jumlah_iterasi)\n",
    "   end"
   ]
  },
  {
   "cell_type": "code",
   "execution_count": 12,
   "id": "64cebd0b",
   "metadata": {},
   "outputs": [
    {
     "name": "stdout",
     "output_type": "stream",
     "text": [
      "  0.000000 seconds\n",
      "elapsed time (ns): 0\n"
     ]
    },
    {
     "data": {
      "text/plain": [
       "9×1 Matrix{ComplexF64}:\n",
       "     0.6955835919649993 - 0.7823798792282375im\n",
       "     1.6552755129106365 - 0.24591358727973045im\n",
       "     0.8582664427900385 - 0.30421363413294955im\n",
       "  6.661338147750939e-16 - 1.7763568394002505e-15im\n",
       "    -0.9092548505267328 + 0.37054479647222927im\n",
       "  2.220446049250313e-16 + 3.552713678800501e-15im\n",
       "    -1.0264004351967992 + 0.34250670677898576im\n",
       " -4.440892098500626e-16 - 8.881784197001252e-16im\n",
       "    -1.2734702619421419 + 0.6194555973896989im"
      ]
     },
     "execution_count": 12,
     "metadata": {},
     "output_type": "execute_result"
    }
   ],
   "source": [
    "H = maximum(abs.(f))\n",
    "jumlah_iterasi = 0\n",
    "while true H > 5e-5\n",
    " i = Current(N,Y,V)\n",
    " s = S_cal(i,V,PV,PQ,N)\n",
    " f = Missmatch(i,V,S,PV,PQ,N)\n",
    " j = Jacobian(V,i,Y,N,PQ,PV)\n",
    " Δv = -inv(j)*f \n",
    " V = update_teg(V,Δv)\n",
    " θ = radiankederajat(sudut(V))\n",
    " global jumlah_iterasi += 1\n",
    "   println(H > 5e-5)\n",
    "   end"
   ]
  },
  {
   "cell_type": "code",
   "execution_count": 13,
   "id": "39376a60",
   "metadata": {},
   "outputs": [
    {
     "name": "stdout",
     "output_type": "stream",
     "text": [
      "  0.000000 seconds\n",
      "elapsed time (ns): 342\n"
     ]
    },
    {
     "data": {
      "text/plain": [
       "9×1 Matrix{ComplexF64}:\n",
       "               1.04 + 0.0im\n",
       " 1.0103682203025721 + 0.17257189632907513im\n",
       " 1.0212826217853517 + 0.0872170077406846im\n",
       " 0.9949349189564536 - 0.04006561489718396im\n",
       "   0.96415631680344 - 0.06297805961021574im\n",
       "  1.003455702825161 + 0.036922594193188336im\n",
       " 0.9790478879748424 + 0.014292211507102264im\n",
       "  0.994998621097589 + 0.06911717677216035im\n",
       " 0.9481981457219439 - 0.0686051739196467im"
      ]
     },
     "execution_count": 13,
     "metadata": {},
     "output_type": "execute_result"
    }
   ],
   "source": [
    "@timev V"
   ]
  },
  {
   "cell_type": "code",
   "execution_count": 31,
   "id": "d0b75d7d",
   "metadata": {},
   "outputs": [
    {
     "data": {
      "text/plain": [
       "16-element Vector{Float64}:\n",
       "  2.220446049250313e-16\n",
       "  0.0\n",
       "  0.0\n",
       "  0.0\n",
       " -7.117082904738989e-17\n",
       "  1.7673594480464273e-15\n",
       "  0.0\n",
       "  2.220446049250313e-16\n",
       "  5.372603698338102e-16\n",
       " -3.589586190018618e-15\n",
       " -4.440892098500626e-16\n",
       " -3.3306690738754696e-16\n",
       " -5.401857317386992e-16\n",
       " -6.178480572126862e-15\n",
       "  2.220446049250313e-16\n",
       " -1.6653345369377348e-16"
      ]
     },
     "execution_count": 31,
     "metadata": {},
     "output_type": "execute_result"
    }
   ],
   "source": [
    "f"
   ]
  },
  {
   "cell_type": "code",
   "execution_count": 20,
   "id": "bd2265a6",
   "metadata": {},
   "outputs": [
    {
     "data": {
      "text/plain": [
       "16-element Vector{Float64}:\n",
       "  2.220446049250313e-16\n",
       "  0.0\n",
       "  0.0\n",
       "  0.0\n",
       " -7.117082904738989e-17\n",
       "  1.7673594480464273e-15\n",
       "  0.0\n",
       "  2.220446049250313e-16\n",
       "  5.372603698338102e-16\n",
       " -3.589586190018618e-15\n",
       " -4.440892098500626e-16\n",
       " -3.3306690738754696e-16\n",
       " -5.401857317386992e-16\n",
       " -6.178480572126862e-15\n",
       "  2.220446049250313e-16\n",
       " -1.6653345369377348e-16"
      ]
     },
     "execution_count": 20,
     "metadata": {},
     "output_type": "execute_result"
    }
   ],
   "source": [
    "f"
   ]
  },
  {
   "cell_type": "code",
   "execution_count": 52,
   "id": "60c3458a",
   "metadata": {},
   "outputs": [
    {
     "data": {
      "text/plain": [
       "9×1 Matrix{Float64}:\n",
       "  0.0\n",
       "  9.031101304366334\n",
       "  4.430054961985804\n",
       " -2.2822218741295375\n",
       " -3.733358497855351\n",
       "  1.7839527649621587\n",
       "  0.5772962424221971\n",
       "  3.577517022237991\n",
       " -4.1139986129002235"
      ]
     },
     "execution_count": 52,
     "metadata": {},
     "output_type": "execute_result"
    }
   ],
   "source": [
    "θ"
   ]
  },
  {
   "cell_type": "code",
   "execution_count": 52,
   "id": "2c6217a4",
   "metadata": {},
   "outputs": [
    {
     "data": {
      "text/plain": [
       "9×9 Matrix{ComplexF64}:\n",
       "  0.0-17.3611im   0.0+0.0im    0.0+0.0im      …       0.0+0.0im\n",
       "  0.0+0.0im       0.0-16.0im   0.0+0.0im              0.0+0.0im\n",
       "  0.0+0.0im       0.0+0.0im    0.0-17.0648im          0.0+0.0im\n",
       " -0.0+17.3611im   0.0+0.0im    0.0+0.0im         -1.36519+11.6041im\n",
       "  0.0+0.0im       0.0+0.0im    0.0+0.0im              0.0+0.0im\n",
       "  0.0+0.0im       0.0+0.0im   -0.0+17.0648im  …       0.0+0.0im\n",
       "  0.0+0.0im       0.0+0.0im    0.0+0.0im              0.0+0.0im\n",
       "  0.0+0.0im      -0.0+16.0im   0.0+0.0im          -1.1876+5.97513im\n",
       "  0.0+0.0im       0.0+0.0im    0.0+0.0im          2.55279-17.5792im"
      ]
     },
     "execution_count": 52,
     "metadata": {},
     "output_type": "execute_result"
    }
   ],
   "source": [
    "Y=[1/0.0576im 0.0+0.0im 0.0+0.0im -1/0.0576im 0.0+0.0im 0.0+0.0im 0.0+0.0im 0.0+0.0im 0.0+0.0im;0.0+0.0im 1/(0.0625im) 0.0+0.0im 0.0+0.0im 0.0+0.0im 0.0+0.0im 0.0+0.0im -1/(0.0625im) 0.0+0.0im;0.0+0.0im 0.0+0.0im 1/0.0586im 0.0+0.0im 0.0+0.0im -1/0.0586im 0.0+0.0im 0.0+0.0im 0.0+0.0im;-1/0.0576im 0.0+0.0im 0.0+0.0im 1/0.0576im+1/(0.0170+0.0920im)+1/(0.0100+0.0850im) -1/(0.0170+0.0920im) 0.0+0.0im 0.0+0.0im 0.0+0.0im -1/(0.0100+0.0850im);0.0+0.0im 0.0+0.0im 0.0+0.0im -1/(0.0170+0.0920im) 1/(0.0170+0.0920im)+1/(0.0390+0.1700im) -1/(0.0390+0.1700im) 0.0+0.0im 0.0+0.0im 0.0+0.0im;0.0+0.0im 0.0+0.0im -1/0.0586im 0.0+0.0im -1/(0.0390+0.1700im) 1/(0.0390+0.1700im)+1/0.0586im+1/(0.0119+0.1008im) -1/(0.0119+0.1008im) 0.0+0.0im 0.0+0.0im;0.0+0.0im 0.0+0.0im 0.0+0.0im 0.0+0.0im 0.0+0.0im -1/(0.0119+0.1008im) 1/(0.0119+0.1008im)+1/(0.0085+0.0720im) -1/(0.0085+0.0720im) 0.0+0.0im;0.0+0.0im -1/(0.0625im) 0.0+0.0im 0.0+0.0im 0.0+0.0im 0.0+0.0im -1/(0.0085+0.0720im) 1/(0.0085+0.0720im)+1/(0.0625im)+1/(0.032+0.1610im) -1/(0.0320+0.1610im);0.0+0.0im 0.0+0.0im 0.0+0.0im -1/(0.0100+0.0850im) 0.0+0.0im 0.0+0.0im 0.0+0.0im -1/(0.0320+0.1610im) 1/(0.0320+0.1610im)+1/(0.0100+0.0850im)]\n"
   ]
  },
  {
   "cell_type": "code",
   "execution_count": 51,
   "id": "a3dd6165",
   "metadata": {},
   "outputs": [
    {
     "data": {
      "text/plain": [
       "1×9 Matrix{ComplexF64}:\n",
       " 0.0+0.0im  0.0+0.0im  0.0-17.0648im  …  0.0+0.0im  0.0+0.0im  0.0+0.0im"
      ]
     },
     "execution_count": 51,
     "metadata": {},
     "output_type": "execute_result"
    }
   ],
   "source": [
    "[0.0+0.0im 0.0+0.0im 1/0.0586im 0.0+0.0im 0.0+0.0im -1/0.0586im 0.0+0.0im 0.0+0.0im 0.0+0.0im]"
   ]
  },
  {
   "cell_type": "code",
   "execution_count": 12,
   "id": "da8c28e7",
   "metadata": {},
   "outputs": [
    {
     "data": {
      "text/plain": [
       "(value = [0.7312582738840858, 0.14230146756801187, 0.4738761147449839, 0.33577884268020264, 0.28672100183534543, 0.5702723996544508, 0.1114631361417655, 0.06498506204549281, 0.6026963201960902, 0.15934899135863145  …  0.5100508418962548, 0.027213545126807848, 0.24608087544062318, 0.3805725047594708, 0.36850658016329696, 0.8150473986150026, 0.09005329626760394, 0.6006631159866842, 0.3338958865577528, 0.4993631227903006], time = 0.117126656, bytes = 8020208, gctime = 0.024163857, gcstats = Base.GC_Diff(8020208, 3, 0, 8, 3, 1, 24163857, 1, 0))"
      ]
     },
     "execution_count": 12,
     "metadata": {},
     "output_type": "execute_result"
    }
   ],
   "source": [
    "@timed rand(10^6)"
   ]
  },
  {
   "cell_type": "code",
   "execution_count": 29,
   "id": "042f9ffa",
   "metadata": {},
   "outputs": [],
   "source": [
    "e = maximum(f)\n",
    "jumlah_iterasi = 0\n",
    "while e > 1e-1\n",
    "    f = 9.000008-9.0003\n",
    "  jumlah_iterasi = jumlah_iterasi += 1\n",
    "    println(jumlah_iterasi)\n",
    "end"
   ]
  },
  {
   "cell_type": "code",
   "execution_count": null,
   "id": "02c4ec91",
   "metadata": {},
   "outputs": [],
   "source": []
  }
 ],
 "metadata": {
  "kernelspec": {
   "display_name": "Julia 1.6.2",
   "language": "julia",
   "name": "julia-1.6"
  },
  "language_info": {
   "file_extension": ".jl",
   "mimetype": "application/julia",
   "name": "julia",
   "version": "1.6.2"
  }
 },
 "nbformat": 4,
 "nbformat_minor": 5
}
